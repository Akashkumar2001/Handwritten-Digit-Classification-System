{
 "cells": [
  {
   "cell_type": "code",
   "execution_count": 1,
   "id": "2005cd51",
   "metadata": {},
   "outputs": [],
   "source": [
    "import numpy as np\n",
    "import pandas as pd\n",
    "%matplotlib inline\n",
    "import matplotlib as mpl\n",
    "import matplotlib.pyplot as plt\n",
    "import tensorflow as tf\n",
    "from tensorflow import keras\n",
    "digit_mnist=keras.datasets.mnist\n",
    "(X_train_full,y_train_full),(X_test,y_test)=digit_mnist.load_data()"
   ]
  },
  {
   "cell_type": "code",
   "execution_count": 2,
   "id": "24154cf6",
   "metadata": {},
   "outputs": [
    {
     "data": {
      "text/plain": [
       "<matplotlib.image.AxesImage at 0x198ad112130>"
      ]
     },
     "execution_count": 2,
     "metadata": {},
     "output_type": "execute_result"
    },
    {
     "data": {
      "image/png": "[encoded data removed]",
      "text/plain": [
       "<Figure size 432x288 with 1 Axes>"
      ]
     },
     "metadata": {
      "needs_background": "light"
     },
     "output_type": "display_data"
    }
   ],
   "source": [
    "plt.imshow(X_train_full[2])"
   ]
  },
  {
   "cell_type": "code",
   "execution_count": 3,
   "id": "d7474aac",
   "metadata": {},
   "outputs": [],
   "source": [
    "X_train_n=X_train_full/255.0\n",
    "X_test_n=X_test/255.0"
   ]
  },
  {
   "cell_type": "code",
   "execution_count": 4,
   "id": "c3151fb5",
   "metadata": {},
   "outputs": [],
   "source": [
    "X_valid,X_train=X_train_n[:6000],X_train_n[6000:]\n",
    "y_valid,y_train=y_train_full[:6000],y_train_full[6000:]\n",
    "X_test=X_test_n"
   ]
  },
  {
   "cell_type": "code",
   "execution_count": 5,
   "id": "a3f66894",
   "metadata": {},
   "outputs": [],
   "source": [
    "np.random.seed(42)\n",
    "tf.random.set_seed(42)"
   ]
  },
  {
   "cell_type": "code",
   "execution_count": 6,
   "id": "356492f2",
   "metadata": {},
   "outputs": [],
   "source": [
    "model=keras.models.Sequential()\n",
    "model.add(keras.layers.Flatten(input_shape=[28,28]))\n",
    "model.add(keras.layers.Dense(200,activation=\"relu\"))\n",
    "model.add(keras.layers.Dense(100,activation=\"relu\"))\n",
    "model.add(keras.layers.Dense(10,activation=\"softmax\"))"
   ]
  },
  {
   "cell_type": "code",
   "execution_count": 7,
   "id": "c15e5000",
   "metadata": {},
   "outputs": [
    {
     "name": "stdout",
     "output_type": "stream",
     "text": [
      "Model: \"sequential\"\n",
      "_________________________________________________________________\n",
      "Layer (type)                 Output Shape              Param #   \n",
      "=================================================================\n",
      "flatten (Flatten)            (None, 784)               0         \n",
      "_________________________________________________________________\n",
      "dense (Dense)                (None, 200)               157000    \n",
      "_________________________________________________________________\n",
      "dense_1 (Dense)              (None, 100)               20100     \n",
      "_________________________________________________________________\n",
      "dense_2 (Dense)              (None, 10)                1010      \n",
      "=================================================================\n",
      "Total params: 178,110\n",
      "Trainable params: 178,110\n",
      "Non-trainable params: 0\n",
      "_________________________________________________________________\n"
     ]
    }
   ],
   "source": [
    "model.summary()"
   ]
  },
  {
   "cell_type": "code",
   "execution_count": 46,
   "id": "29086242",
   "metadata": {},
   "outputs": [
    {
     "data": {
      "text/plain": [
       "(200,)"
      ]
     },
     "execution_count": 46,
     "metadata": {},
     "output_type": "execute_result"
    }
   ],
   "source": [
    "weights,biases=model.layers[1].get_weights()\n",
    "weights\n",
    "weights.shape\n",
    "biases\n",
    "biases.shape"
   ]
  },
  {
   "cell_type": "code",
   "execution_count": 47,
   "id": "4f0bffba",
   "metadata": {},
   "outputs": [],
   "source": [
    "model.compile(loss=\"sparse_categorical_crossentropy\",\n",
    "             optimizer=\"sgd\",\n",
    "             metrics=\"accuracy\")"
   ]
  },
  {
   "cell_type": "code",
   "execution_count": 48,
   "id": "ae8ddf00",
   "metadata": {},
   "outputs": [
    {
     "name": "stdout",
     "output_type": "stream",
     "text": [
      "Epoch 1/60\n",
      "1688/1688 [==============================] - 7s 4ms/step - loss: 0.6607 - accuracy: 0.8267 - val_loss: 0.3216 - val_accuracy: 0.9125\n",
      "Epoch 2/60\n",
      "1688/1688 [==============================] - 6s 3ms/step - loss: 0.3006 - accuracy: 0.9141 - val_loss: 0.2585 - val_accuracy: 0.9285\n",
      "Epoch 3/60\n",
      "1688/1688 [==============================] - 7s 4ms/step - loss: 0.2488 - accuracy: 0.9292 - val_loss: 0.2254 - val_accuracy: 0.9387\n",
      "Epoch 4/60\n",
      "1688/1688 [==============================] - 7s 4ms/step - loss: 0.2151 - accuracy: 0.9389 - val_loss: 0.1962 - val_accuracy: 0.9442\n",
      "Epoch 5/60\n",
      "1688/1688 [==============================] - 6s 4ms/step - loss: 0.1893 - accuracy: 0.9462 - val_loss: 0.1790 - val_accuracy: 0.9483\n",
      "Epoch 6/60\n",
      "1688/1688 [==============================] - 5s 3ms/step - loss: 0.1690 - accuracy: 0.9517 - val_loss: 0.1637 - val_accuracy: 0.9523\n",
      "Epoch 7/60\n",
      "1688/1688 [==============================] - 7s 4ms/step - loss: 0.1521 - accuracy: 0.9570 - val_loss: 0.1482 - val_accuracy: 0.9588\n",
      "Epoch 8/60\n",
      "1688/1688 [==============================] - 6s 3ms/step - loss: 0.1378 - accuracy: 0.9611 - val_loss: 0.1416 - val_accuracy: 0.9608\n",
      "Epoch 9/60\n",
      "1688/1688 [==============================] - 5s 3ms/step - loss: 0.1260 - accuracy: 0.9642 - val_loss: 0.1315 - val_accuracy: 0.9645\n",
      "Epoch 10/60\n",
      "1688/1688 [==============================] - 7s 4ms/step - loss: 0.1157 - accuracy: 0.9673 - val_loss: 0.1273 - val_accuracy: 0.9633\n",
      "Epoch 11/60\n",
      "1688/1688 [==============================] - 7s 4ms/step - loss: 0.1066 - accuracy: 0.9697 - val_loss: 0.1157 - val_accuracy: 0.9677\n",
      "Epoch 12/60\n",
      "1688/1688 [==============================] - 8s 5ms/step - loss: 0.0991 - accuracy: 0.9722 - val_loss: 0.1118 - val_accuracy: 0.9700\n",
      "Epoch 13/60\n",
      "1688/1688 [==============================] - 7s 4ms/step - loss: 0.0917 - accuracy: 0.9746 - val_loss: 0.1057 - val_accuracy: 0.9708\n",
      "Epoch 14/60\n",
      "1688/1688 [==============================] - 6s 4ms/step - loss: 0.0857 - accuracy: 0.9766 - val_loss: 0.1006 - val_accuracy: 0.9718\n",
      "Epoch 15/60\n",
      "1688/1688 [==============================] - 6s 4ms/step - loss: 0.0802 - accuracy: 0.9777 - val_loss: 0.0990 - val_accuracy: 0.9722\n",
      "Epoch 16/60\n",
      "1688/1688 [==============================] - 4s 3ms/step - loss: 0.0752 - accuracy: 0.9794 - val_loss: 0.0945 - val_accuracy: 0.9725\n",
      "Epoch 17/60\n",
      "1688/1688 [==============================] - 7s 4ms/step - loss: 0.0707 - accuracy: 0.9808 - val_loss: 0.0934 - val_accuracy: 0.9725\n",
      "Epoch 18/60\n",
      "1688/1688 [==============================] - 6s 4ms/step - loss: 0.0659 - accuracy: 0.9818 - val_loss: 0.0893 - val_accuracy: 0.9752\n",
      "Epoch 19/60\n",
      "1688/1688 [==============================] - 7s 4ms/step - loss: 0.0624 - accuracy: 0.9829 - val_loss: 0.0894 - val_accuracy: 0.9742\n",
      "Epoch 20/60\n",
      "1688/1688 [==============================] - 7s 4ms/step - loss: 0.0587 - accuracy: 0.9840 - val_loss: 0.0874 - val_accuracy: 0.9750\n",
      "Epoch 21/60\n",
      "1688/1688 [==============================] - 6s 3ms/step - loss: 0.0555 - accuracy: 0.9850 - val_loss: 0.0863 - val_accuracy: 0.9758\n",
      "Epoch 22/60\n",
      "1688/1688 [==============================] - 7s 4ms/step - loss: 0.0525 - accuracy: 0.9859 - val_loss: 0.0838 - val_accuracy: 0.9758\n",
      "Epoch 23/60\n",
      "1688/1688 [==============================] - 6s 4ms/step - loss: 0.0496 - accuracy: 0.9865 - val_loss: 0.0830 - val_accuracy: 0.9765\n",
      "Epoch 24/60\n",
      "1688/1688 [==============================] - 6s 3ms/step - loss: 0.0468 - accuracy: 0.9874 - val_loss: 0.0825 - val_accuracy: 0.9755\n",
      "Epoch 25/60\n",
      "1688/1688 [==============================] - 7s 4ms/step - loss: 0.0442 - accuracy: 0.9885 - val_loss: 0.0833 - val_accuracy: 0.9745\n",
      "Epoch 26/60\n",
      "1688/1688 [==============================] - 8s 5ms/step - loss: 0.0420 - accuracy: 0.9889 - val_loss: 0.0811 - val_accuracy: 0.9762\n",
      "Epoch 27/60\n",
      "1688/1688 [==============================] - 8s 5ms/step - loss: 0.0398 - accuracy: 0.9892 - val_loss: 0.0771 - val_accuracy: 0.9780\n",
      "Epoch 28/60\n",
      "1688/1688 [==============================] - 8s 5ms/step - loss: 0.0377 - accuracy: 0.9902 - val_loss: 0.0774 - val_accuracy: 0.9768\n",
      "Epoch 29/60\n",
      "1688/1688 [==============================] - 8s 5ms/step - loss: 0.0357 - accuracy: 0.9906 - val_loss: 0.0760 - val_accuracy: 0.9778\n",
      "Epoch 30/60\n",
      "1688/1688 [==============================] - 8s 5ms/step - loss: 0.0338 - accuracy: 0.9916 - val_loss: 0.0786 - val_accuracy: 0.9770\n",
      "Epoch 31/60\n",
      "1688/1688 [==============================] - 8s 4ms/step - loss: 0.0321 - accuracy: 0.9918 - val_loss: 0.0755 - val_accuracy: 0.9778\n",
      "Epoch 32/60\n",
      "1688/1688 [==============================] - 8s 5ms/step - loss: 0.0304 - accuracy: 0.9927 - val_loss: 0.0774 - val_accuracy: 0.9778\n",
      "Epoch 33/60\n",
      "1688/1688 [==============================] - 8s 5ms/step - loss: 0.0289 - accuracy: 0.9931 - val_loss: 0.0765 - val_accuracy: 0.9777\n",
      "Epoch 34/60\n",
      "1688/1688 [==============================] - 8s 4ms/step - loss: 0.0274 - accuracy: 0.9937 - val_loss: 0.0763 - val_accuracy: 0.9782\n",
      "Epoch 35/60\n",
      "1688/1688 [==============================] - 8s 5ms/step - loss: 0.0260 - accuracy: 0.9940 - val_loss: 0.0748 - val_accuracy: 0.9783\n",
      "Epoch 36/60\n",
      "1688/1688 [==============================] - 8s 4ms/step - loss: 0.0246 - accuracy: 0.9946 - val_loss: 0.0799 - val_accuracy: 0.9767\n",
      "Epoch 37/60\n",
      "1688/1688 [==============================] - 6s 4ms/step - loss: 0.0237 - accuracy: 0.9944 - val_loss: 0.0754 - val_accuracy: 0.9773\n",
      "Epoch 38/60\n",
      "1688/1688 [==============================] - 6s 4ms/step - loss: 0.0223 - accuracy: 0.9954 - val_loss: 0.0758 - val_accuracy: 0.9782\n",
      "Epoch 39/60\n",
      "1688/1688 [==============================] - 6s 4ms/step - loss: 0.0212 - accuracy: 0.9958 - val_loss: 0.0749 - val_accuracy: 0.9777\n",
      "Epoch 40/60\n",
      "1688/1688 [==============================] - 7s 4ms/step - loss: 0.0202 - accuracy: 0.9962 - val_loss: 0.0756 - val_accuracy: 0.9780\n",
      "Epoch 41/60\n",
      "1688/1688 [==============================] - 7s 4ms/step - loss: 0.0191 - accuracy: 0.9966 - val_loss: 0.0752 - val_accuracy: 0.9783\n",
      "Epoch 42/60\n",
      "1688/1688 [==============================] - 6s 4ms/step - loss: 0.0183 - accuracy: 0.9970 - val_loss: 0.0769 - val_accuracy: 0.9773\n",
      "Epoch 43/60\n",
      "1688/1688 [==============================] - 7s 4ms/step - loss: 0.0174 - accuracy: 0.9971 - val_loss: 0.0820 - val_accuracy: 0.9763\n",
      "Epoch 44/60\n",
      "1688/1688 [==============================] - 7s 4ms/step - loss: 0.0166 - accuracy: 0.9972 - val_loss: 0.0753 - val_accuracy: 0.9787\n",
      "Epoch 45/60\n",
      "1688/1688 [==============================] - 7s 4ms/step - loss: 0.0157 - accuracy: 0.9977 - val_loss: 0.0756 - val_accuracy: 0.9778\n",
      "Epoch 46/60\n",
      "1688/1688 [==============================] - 7s 4ms/step - loss: 0.0151 - accuracy: 0.9979 - val_loss: 0.0760 - val_accuracy: 0.9782\n",
      "Epoch 47/60\n",
      "1688/1688 [==============================] - 7s 4ms/step - loss: 0.0143 - accuracy: 0.9980 - val_loss: 0.0767 - val_accuracy: 0.9775\n",
      "Epoch 48/60\n",
      "1688/1688 [==============================] - 7s 4ms/step - loss: 0.0137 - accuracy: 0.9984 - val_loss: 0.0768 - val_accuracy: 0.9772\n",
      "Epoch 49/60\n",
      "1688/1688 [==============================] - 7s 4ms/step - loss: 0.0130 - accuracy: 0.9981 - val_loss: 0.0774 - val_accuracy: 0.9775\n",
      "Epoch 50/60\n",
      "1688/1688 [==============================] - 7s 4ms/step - loss: 0.0124 - accuracy: 0.9986 - val_loss: 0.0788 - val_accuracy: 0.9777\n",
      "Epoch 51/60\n",
      "1688/1688 [==============================] - 7s 4ms/step - loss: 0.0119 - accuracy: 0.9986 - val_loss: 0.0767 - val_accuracy: 0.9777\n",
      "Epoch 52/60\n",
      "1688/1688 [==============================] - 7s 4ms/step - loss: 0.0114 - accuracy: 0.9987 - val_loss: 0.0761 - val_accuracy: 0.9782\n",
      "Epoch 53/60\n",
      "1688/1688 [==============================] - 7s 4ms/step - loss: 0.0109 - accuracy: 0.9988 - val_loss: 0.0779 - val_accuracy: 0.9778\n",
      "Epoch 54/60\n",
      "1688/1688 [==============================] - 6s 4ms/step - loss: 0.0105 - accuracy: 0.9989 - val_loss: 0.0762 - val_accuracy: 0.9792\n",
      "Epoch 55/60\n",
      "1688/1688 [==============================] - 5s 3ms/step - loss: 0.0100 - accuracy: 0.9990 - val_loss: 0.0779 - val_accuracy: 0.9780\n",
      "Epoch 56/60\n",
      "1688/1688 [==============================] - 6s 3ms/step - loss: 0.0095 - accuracy: 0.9991 - val_loss: 0.0788 - val_accuracy: 0.9780\n",
      "Epoch 57/60\n",
      "1688/1688 [==============================] - 5s 3ms/step - loss: 0.0091 - accuracy: 0.9993 - val_loss: 0.0793 - val_accuracy: 0.9780\n",
      "Epoch 58/60\n",
      "1688/1688 [==============================] - 6s 4ms/step - loss: 0.0088 - accuracy: 0.9992 - val_loss: 0.0772 - val_accuracy: 0.9780\n",
      "Epoch 59/60\n",
      "1688/1688 [==============================] - 5s 3ms/step - loss: 0.0085 - accuracy: 0.9993 - val_loss: 0.0797 - val_accuracy: 0.9777\n",
      "Epoch 60/60\n",
      "1688/1688 [==============================] - 6s 4ms/step - loss: 0.0081 - accuracy: 0.9993 - val_loss: 0.0803 - val_accuracy: 0.9780\n"
     ]
    }
   ],
   "source": [
    "model_history=model.fit(X_train,y_train,epochs=60,validation_data=(X_valid,y_valid))"
   ]
  },
  {
   "cell_type": "code",
   "execution_count": 49,
   "id": "64dc33de",
   "metadata": {},
   "outputs": [
    {
     "data": {
      "image/png": "[encoded data removed]",
      "text/plain": [
       "<Figure size 576x360 with 1 Axes>"
      ]
     },
     "metadata": {
      "needs_background": "light"
     },
     "output_type": "display_data"
    }
   ],
   "source": [
    "import pandas as pd\n",
    "pd.DataFrame(model_history.history).plot(figsize=(8,5))\n",
    "plt.grid(True)\n",
    "plt.gca().set_ylim(0,1)\n",
    "plt.show()"
   ]
  },
  {
   "cell_type": "code",
   "execution_count": 50,
   "id": "c476c7e3",
   "metadata": {},
   "outputs": [
    {
     "name": "stdout",
     "output_type": "stream",
     "text": [
      "313/313 [==============================] - 1s 2ms/step - loss: 0.0738 - accuracy: 0.9793\n"
     ]
    },
    {
     "data": {
      "text/plain": [
       "[0.07376843690872192, 0.9793000221252441]"
      ]
     },
     "execution_count": 50,
     "metadata": {},
     "output_type": "execute_result"
    }
   ],
   "source": [
    "model.evaluate(X_test,y_test)"
   ]
  },
  {
   "cell_type": "code",
   "execution_count": 51,
   "id": "0edfe5ca",
   "metadata": {},
   "outputs": [],
   "source": [
    "X_new=X_test[:5]"
   ]
  },
  {
   "cell_type": "code",
   "execution_count": 52,
   "id": "ad346119",
   "metadata": {},
   "outputs": [
    {
     "data": {
      "text/plain": [
       "array([[0., 0., 0., 0., 0., 0., 0., 1., 0., 0.],\n",
       "       [0., 0., 1., 0., 0., 0., 0., 0., 0., 0.],\n",
       "       [0., 1., 0., 0., 0., 0., 0., 0., 0., 0.],\n",
       "       [1., 0., 0., 0., 0., 0., 0., 0., 0., 0.],\n",
       "       [0., 0., 0., 0., 1., 0., 0., 0., 0., 0.]], dtype=float32)"
      ]
     },
     "execution_count": 52,
     "metadata": {},
     "output_type": "execute_result"
    }
   ],
   "source": [
    "y_proba=model.predict(X_new)\n",
    "y_proba.round(2)"
   ]
  },
  {
   "cell_type": "code",
   "execution_count": 58,
   "id": "f8aeae8c",
   "metadata": {},
   "outputs": [
    {
     "data": {
      "text/plain": [
       "<matplotlib.image.AxesImage at 0x24e93fa91c0>"
      ]
     },
     "execution_count": 58,
     "metadata": {},
     "output_type": "execute_result"
    },
    {
     "data": {
      "image/png": "[encoded data removed]",
      "text/plain": [
       "<Figure size 432x288 with 1 Axes>"
      ]
     },
     "metadata": {
      "needs_background": "light"
     },
     "output_type": "display_data"
    }
   ],
   "source": [
    "plt.imshow(X_test[7])"
   ]
  },
  {
   "cell_type": "code",
   "execution_count": 57,
   "id": "a39f5fac",
   "metadata": {},
   "outputs": [
    {
     "data": {
      "text/plain": [
       "<matplotlib.image.AxesImage at 0x24e94353640>"
      ]
     },
     "execution_count": 57,
     "metadata": {},
     "output_type": "execute_result"
    },
    {
     "data": {
      "image/png": "[encoded data removed]",
      "text/plain": [
       "<Figure size 432x288 with 1 Axes>"
      ]
     },
     "metadata": {
      "needs_background": "light"
     },
     "output_type": "display_data"
    }
   ],
   "source": [
    "plt.imshow(X_test[2])"
   ]
  },
  {
   "cell_type": "code",
   "execution_count": 59,
   "id": "03319c17",
   "metadata": {},
   "outputs": [
    {
     "data": {
      "text/plain": [
       "<matplotlib.image.AxesImage at 0x24e8f978070>"
      ]
     },
     "execution_count": 59,
     "metadata": {},
     "output_type": "execute_result"
    },
    {
     "data": {
      "image/png": "[encoded data removed]",
      "text/plain": [
       "<Figure size 432x288 with 1 Axes>"
      ]
     },
     "metadata": {
      "needs_background": "light"
     },
     "output_type": "display_data"
    }
   ],
   "source": [
    "plt.imshow(X_new[2])"
   ]
  },
  {
   "cell_type": "code",
   "execution_count": null,
   "id": "9dc09175",
   "metadata": {},
   "outputs": [],
   "source": [
    "y_proba[7]"
   ]
  }
 ],
 "metadata": {
  "kernelspec": {
   "display_name": "Python 3",
   "language": "python",
   "name": "python3"
  },
  "language_info": {
   "codemirror_mode": {
    "name": "ipython",
    "version": 3
   },
   "file_extension": ".py",
   "mimetype": "text/x-python",
   "name": "python",
   "nbconvert_exporter": "python",
   "pygments_lexer": "ipython3",
   "version": "3.8.10"
  }
 },
 "nbformat": 4,
 "nbformat_minor": 5
}
