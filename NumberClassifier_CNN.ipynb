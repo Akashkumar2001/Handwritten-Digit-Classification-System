{
 "cells": [
  {
   "cell_type": "code",
   "execution_count": 1,
   "id": "384eaf06",
   "metadata": {},
   "outputs": [],
   "source": [
    "import numpy as np\n",
    "import pandas as pd\n",
    "%matplotlib inline\n",
    "import matplotlib as mpl\n",
    "import matplotlib.pyplot as plt\n",
    "import tensorflow as tf\n",
    "from tensorflow import keras"
   ]
  },
  {
   "cell_type": "markdown",
   "id": "ab138a5e",
   "metadata": {},
   "source": [
    "## Load the database to variable named digit_mnist using the Keras inbuilt datasets (digit_mnist = keras.datasets.mnist)"
   ]
  },
  {
   "cell_type": "code",
   "execution_count": 2,
   "id": "96f1675f",
   "metadata": {},
   "outputs": [],
   "source": [
    "digit_mnist=keras.datasets.mnist"
   ]
  },
  {
   "cell_type": "markdown",
   "id": "e39462c2",
   "metadata": {},
   "source": [
    "## Import data to create X_train_full, y_train_full, X_test and y_test variables"
   ]
  },
  {
   "cell_type": "code",
   "execution_count": 3,
   "id": "c943dec6",
   "metadata": {},
   "outputs": [],
   "source": [
    "(X_train_full,y_train_full),(X_test,y_test)=digit_mnist.load_data()"
   ]
  },
  {
   "cell_type": "markdown",
   "id": "d4afed14",
   "metadata": {},
   "source": [
    "## Reshape the independent (X) data"
   ]
  },
  {
   "cell_type": "code",
   "execution_count": 4,
   "id": "62237723",
   "metadata": {},
   "outputs": [],
   "source": [
    "X_train_full=X_train_full.reshape((60000,28,28,1))\n",
    "X_test=X_test.reshape((10000,28,28,1))"
   ]
  },
  {
   "cell_type": "markdown",
   "id": "697990a0",
   "metadata": {},
   "source": [
    "## Normalize the data"
   ]
  },
  {
   "cell_type": "code",
   "execution_count": 5,
   "id": "65be29ad",
   "metadata": {},
   "outputs": [],
   "source": [
    "X_train_n=X_train_full/255.0\n",
    "X_test_n=X_test/255.0"
   ]
  },
  {
   "cell_type": "markdown",
   "id": "eea631fb",
   "metadata": {},
   "source": [
    "## Create a validation set of 6000 images"
   ]
  },
  {
   "cell_type": "code",
   "execution_count": 6,
   "id": "71b4cb5b",
   "metadata": {},
   "outputs": [],
   "source": [
    "X_valid,X_train=X_train_n[:6000],X_train_n[6000:]\n",
    "y_valid,y_train=y_train_full[:6000],y_train_full[6000:]\n",
    "X_test=X_test_n"
   ]
  },
  {
   "cell_type": "markdown",
   "id": "ea321450",
   "metadata": {},
   "source": [
    "## Create a CNN model (Model_A) with a Conv layer of filters = 32, kernel_size = (3, 3), strides=1, padding='valid', a Max pooling layer of 2 by 2 window and two dense layers with 200 and 100 neurons"
   ]
  },
  {
   "cell_type": "code",
   "execution_count": 7,
   "id": "78bee459",
   "metadata": {},
   "outputs": [],
   "source": [
    "Model_A=keras.models.Sequential()\n",
    "Model_A.add(keras.layers.Conv2D(filters=32,kernel_size=(3,3),strides=1,padding='valid',activation='relu',input_shape=(28,28,1)))\n",
    "Model_A.add(keras.layers.MaxPooling2D((2,2)))\n",
    "\n",
    "Model_A.add(keras.layers.Flatten()) #using flatten to convert the input 3d array of 28x28x1 pixels into 1d. \n",
    "Model_A.add(keras.layers.Dense(200,activation=\"relu\"))  #Dense because its for hidden layer.relu gives 0 for negative input and same input for positive input.\n",
    "Model_A.add(keras.layers.Dense(100,activation=\"relu\"))   #100 represents no. of neurons.\n",
    "Model_A.add(keras.layers.Dense(10,activation=\"softmax\"))"
   ]
  },
  {
   "cell_type": "markdown",
   "id": "e51d8fe7",
   "metadata": {},
   "source": [
    "## Compile and train the model for 60 epochs"
   ]
  },
  {
   "cell_type": "code",
   "execution_count": 8,
   "id": "c71de10a",
   "metadata": {},
   "outputs": [],
   "source": [
    "Model_A.compile(loss=\"sparse_categorical_crossentropy\",\n",
    "             optimizer=\"sgd\",\n",
    "             metrics=\"accuracy\")"
   ]
  },
  {
   "cell_type": "code",
   "execution_count": 9,
   "id": "c656e650",
   "metadata": {},
   "outputs": [
    {
     "name": "stdout",
     "output_type": "stream",
     "text": [
      "Epoch 1/30\n",
      "844/844 [==============================] - 24s 28ms/step - loss: 0.7587 - accuracy: 0.7873 - val_loss: 0.2808 - val_accuracy: 0.9202\n",
      "Epoch 2/30\n",
      "844/844 [==============================] - 23s 27ms/step - loss: 0.2649 - accuracy: 0.9216 - val_loss: 0.2103 - val_accuracy: 0.9415\n",
      "Epoch 3/30\n",
      "844/844 [==============================] - 23s 27ms/step - loss: 0.2070 - accuracy: 0.9388 - val_loss: 0.1718 - val_accuracy: 0.9517\n",
      "Epoch 4/30\n",
      "844/844 [==============================] - 23s 27ms/step - loss: 0.1704 - accuracy: 0.9493 - val_loss: 0.1505 - val_accuracy: 0.9572\n",
      "Epoch 5/30\n",
      "844/844 [==============================] - 23s 27ms/step - loss: 0.1467 - accuracy: 0.9559 - val_loss: 0.1257 - val_accuracy: 0.9622\n",
      "Epoch 6/30\n",
      "844/844 [==============================] - 22s 26ms/step - loss: 0.1288 - accuracy: 0.9614 - val_loss: 0.1141 - val_accuracy: 0.9662\n",
      "Epoch 7/30\n",
      "844/844 [==============================] - 22s 26ms/step - loss: 0.1149 - accuracy: 0.9653 - val_loss: 0.1072 - val_accuracy: 0.9673\n",
      "Epoch 8/30\n",
      "844/844 [==============================] - 22s 26ms/step - loss: 0.1037 - accuracy: 0.9690 - val_loss: 0.0946 - val_accuracy: 0.9710\n",
      "Epoch 9/30\n",
      "844/844 [==============================] - 22s 26ms/step - loss: 0.0942 - accuracy: 0.9713 - val_loss: 0.0940 - val_accuracy: 0.9722\n",
      "Epoch 10/30\n",
      "844/844 [==============================] - 22s 26ms/step - loss: 0.0862 - accuracy: 0.9742 - val_loss: 0.0928 - val_accuracy: 0.9713\n",
      "Epoch 11/30\n",
      "844/844 [==============================] - 22s 26ms/step - loss: 0.0795 - accuracy: 0.9763 - val_loss: 0.0822 - val_accuracy: 0.9755\n",
      "Epoch 12/30\n",
      "844/844 [==============================] - 22s 27ms/step - loss: 0.0736 - accuracy: 0.9767 - val_loss: 0.0776 - val_accuracy: 0.9742\n",
      "Epoch 13/30\n",
      "844/844 [==============================] - 22s 26ms/step - loss: 0.0678 - accuracy: 0.9792 - val_loss: 0.0680 - val_accuracy: 0.9785\n",
      "Epoch 14/30\n",
      "844/844 [==============================] - 23s 27ms/step - loss: 0.0635 - accuracy: 0.9808 - val_loss: 0.0707 - val_accuracy: 0.9778\n",
      "Epoch 15/30\n",
      "844/844 [==============================] - 23s 27ms/step - loss: 0.0592 - accuracy: 0.9820 - val_loss: 0.0705 - val_accuracy: 0.9777\n",
      "Epoch 16/30\n",
      "844/844 [==============================] - 23s 27ms/step - loss: 0.0557 - accuracy: 0.9825 - val_loss: 0.0645 - val_accuracy: 0.9790\n",
      "Epoch 17/30\n",
      "844/844 [==============================] - 23s 27ms/step - loss: 0.0518 - accuracy: 0.9841 - val_loss: 0.0692 - val_accuracy: 0.9792\n",
      "Epoch 18/30\n",
      "844/844 [==============================] - 23s 27ms/step - loss: 0.0486 - accuracy: 0.9851 - val_loss: 0.0617 - val_accuracy: 0.9813\n",
      "Epoch 19/30\n",
      "844/844 [==============================] - 23s 27ms/step - loss: 0.0458 - accuracy: 0.9863 - val_loss: 0.0616 - val_accuracy: 0.9817\n",
      "Epoch 20/30\n",
      "844/844 [==============================] - 23s 27ms/step - loss: 0.0432 - accuracy: 0.9867 - val_loss: 0.0605 - val_accuracy: 0.9805\n",
      "Epoch 21/30\n",
      "844/844 [==============================] - 23s 27ms/step - loss: 0.0411 - accuracy: 0.9874 - val_loss: 0.0583 - val_accuracy: 0.9812\n",
      "Epoch 22/30\n",
      "844/844 [==============================] - 23s 27ms/step - loss: 0.0381 - accuracy: 0.9884 - val_loss: 0.0570 - val_accuracy: 0.9823\n",
      "Epoch 23/30\n",
      "844/844 [==============================] - 23s 27ms/step - loss: 0.0359 - accuracy: 0.9896 - val_loss: 0.0684 - val_accuracy: 0.9788\n",
      "Epoch 24/30\n",
      "844/844 [==============================] - 23s 27ms/step - loss: 0.0342 - accuracy: 0.9899 - val_loss: 0.0578 - val_accuracy: 0.9813\n",
      "Epoch 25/30\n",
      "844/844 [==============================] - 23s 27ms/step - loss: 0.0326 - accuracy: 0.9904 - val_loss: 0.0581 - val_accuracy: 0.9822\n",
      "Epoch 26/30\n",
      "844/844 [==============================] - 23s 28ms/step - loss: 0.0301 - accuracy: 0.9912 - val_loss: 0.0733 - val_accuracy: 0.9792\n",
      "Epoch 27/30\n",
      "844/844 [==============================] - 23s 27ms/step - loss: 0.0293 - accuracy: 0.9912 - val_loss: 0.0561 - val_accuracy: 0.9830\n",
      "Epoch 28/30\n",
      "844/844 [==============================] - 23s 28ms/step - loss: 0.0271 - accuracy: 0.9924 - val_loss: 0.0614 - val_accuracy: 0.9810\n",
      "Epoch 29/30\n",
      "844/844 [==============================] - 23s 27ms/step - loss: 0.0251 - accuracy: 0.9930 - val_loss: 0.0578 - val_accuracy: 0.9815\n",
      "Epoch 30/30\n",
      "844/844 [==============================] - 23s 27ms/step - loss: 0.0249 - accuracy: 0.9933 - val_loss: 0.0607 - val_accuracy: 0.9807\n"
     ]
    }
   ],
   "source": [
    "Model_A_history=Model_A.fit(X_train,y_train,epochs=30,batch_size=64,validation_data=(X_valid,y_valid))"
   ]
  },
  {
   "cell_type": "markdown",
   "id": "6bf877db",
   "metadata": {},
   "source": [
    "## Plot the loss and accuracy against epoch"
   ]
  },
  {
   "cell_type": "code",
   "execution_count": 10,
   "id": "af74b775",
   "metadata": {},
   "outputs": [
    {
     "data": {
      "image/png": "[encoded data removed]",
      "text/plain": [
       "<Figure size 576x360 with 1 Axes>"
      ]
     },
     "metadata": {
      "needs_background": "light"
     },
     "output_type": "display_data"
    }
   ],
   "source": [
    "import pandas as pd\n",
    "pd.DataFrame(Model_A_history.history).plot(figsize=(8,5))\n",
    "plt.grid(True)\n",
    "plt.gca().set_ylim(0,1)\n",
    "plt.show()"
   ]
  },
  {
   "cell_type": "markdown",
   "id": "6849612c",
   "metadata": {},
   "source": [
    "## Evaluate the model accuracy on the test dataset"
   ]
  },
  {
   "cell_type": "code",
   "execution_count": 11,
   "id": "3a84f2d8",
   "metadata": {},
   "outputs": [
    {
     "name": "stdout",
     "output_type": "stream",
     "text": [
      "313/313 [==============================] - 2s 7ms/step - loss: 0.0610 - accuracy: 0.9812\n"
     ]
    },
    {
     "data": {
      "text/plain": [
       "[0.06101522967219353, 0.9811999797821045]"
      ]
     },
     "execution_count": 11,
     "metadata": {},
     "output_type": "execute_result"
    }
   ],
   "source": [
    "Model_A.evaluate(X_test,y_test)"
   ]
  },
  {
   "cell_type": "markdown",
   "id": "034d46fd",
   "metadata": {},
   "source": [
    "# Create another model (model_B) with number of filter =64"
   ]
  },
  {
   "cell_type": "code",
   "execution_count": 7,
   "id": "59899132",
   "metadata": {},
   "outputs": [],
   "source": [
    "Model_B=keras.models.Sequential()\n",
    "Model_B.add(keras.layers.Conv2D(filters=64,kernel_size=(3,3),strides=1,padding='valid',activation='relu',input_shape=(28,28,1)))\n",
    "Model_B.add(keras.layers.MaxPooling2D((2,2)))\n",
    "\n",
    "Model_B.add(keras.layers.Flatten()) #using flatten to convert the input 3d array of 28x28x1 pixels into 1d. \n",
    "Model_B.add(keras.layers.Dense(200,activation=\"relu\"))  #Dense because its for hidden layer.relu gives 0 for negative input and same input for positive input.\n",
    "Model_B.add(keras.layers.Dense(100,activation=\"relu\"))   #100 represents no. of neurons.\n",
    "Model_B.add(keras.layers.Dense(10,activation=\"softmax\"))"
   ]
  },
  {
   "cell_type": "code",
   "execution_count": 8,
   "id": "94ce22cc",
   "metadata": {},
   "outputs": [],
   "source": [
    "Model_B.compile(loss=\"sparse_categorical_crossentropy\",\n",
    "             optimizer=\"sgd\",\n",
    "             metrics=\"accuracy\")"
   ]
  },
  {
   "cell_type": "code",
   "execution_count": 9,
   "id": "e159108c",
   "metadata": {},
   "outputs": [
    {
     "name": "stdout",
     "output_type": "stream",
     "text": [
      "Epoch 1/5\n",
      "844/844 [==============================] - 38s 45ms/step - loss: 0.7177 - accuracy: 0.8109 - val_loss: 0.2729 - val_accuracy: 0.9245\n",
      "Epoch 2/5\n",
      "844/844 [==============================] - 37s 44ms/step - loss: 0.2592 - accuracy: 0.9235 - val_loss: 0.2274 - val_accuracy: 0.9358\n",
      "Epoch 3/5\n",
      "844/844 [==============================] - 37s 44ms/step - loss: 0.2048 - accuracy: 0.9394 - val_loss: 0.1752 - val_accuracy: 0.9478\n",
      "Epoch 4/5\n",
      "844/844 [==============================] - 37s 43ms/step - loss: 0.1706 - accuracy: 0.9493 - val_loss: 0.1549 - val_accuracy: 0.9520\n",
      "Epoch 5/5\n",
      "844/844 [==============================] - 37s 44ms/step - loss: 0.1475 - accuracy: 0.9559 - val_loss: 0.1314 - val_accuracy: 0.9600\n"
     ]
    }
   ],
   "source": [
    "Model_B_history=Model_B.fit(X_train,y_train,epochs=5,batch_size=64,validation_data=(X_valid,y_valid))"
   ]
  },
  {
   "cell_type": "code",
   "execution_count": 10,
   "id": "333f95a5",
   "metadata": {},
   "outputs": [
    {
     "data": {
      "image/png": "[encoded data removed]",
      "text/plain": [
       "<Figure size 576x360 with 1 Axes>"
      ]
     },
     "metadata": {
      "needs_background": "light"
     },
     "output_type": "display_data"
    }
   ],
   "source": [
    "import pandas as pd\n",
    "pd.DataFrame(Model_B_history.history).plot(figsize=(8,5))\n",
    "plt.grid(True)\n",
    "plt.gca().set_ylim(0,1)\n",
    "plt.show()"
   ]
  },
  {
   "cell_type": "code",
   "execution_count": 11,
   "id": "37ab77cd",
   "metadata": {},
   "outputs": [
    {
     "name": "stdout",
     "output_type": "stream",
     "text": [
      "313/313 [==============================] - 3s 11ms/step - loss: 0.1308 - accuracy: 0.9597\n"
     ]
    },
    {
     "data": {
      "text/plain": [
       "[0.13076435029506683, 0.9596999883651733]"
      ]
     },
     "execution_count": 11,
     "metadata": {},
     "output_type": "execute_result"
    }
   ],
   "source": [
    "Model_B.evaluate(X_test,y_test)"
   ]
  },
  {
   "cell_type": "markdown",
   "id": "0a1d2cae",
   "metadata": {},
   "source": [
    "## Compare the performance and execution time for Model_A and Model_B"
   ]
  },
  {
   "cell_type": "code",
   "execution_count": null,
   "id": "72f6a9c6",
   "metadata": {},
   "outputs": [],
   "source": []
  }
 ],
 "metadata": {
  "kernelspec": {
   "display_name": "Python 3",
   "language": "python",
   "name": "python3"
  },
  "language_info": {
   "codemirror_mode": {
    "name": "ipython",
    "version": 3
   },
   "file_extension": ".py",
   "mimetype": "text/x-python",
   "name": "python",
   "nbconvert_exporter": "python",
   "pygments_lexer": "ipython3",
   "version": "3.8.10"
  }
 },
 "nbformat": 4,
 "nbformat_minor": 5
}
